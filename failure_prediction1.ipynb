{
  "nbformat": 4,
  "nbformat_minor": 0,
  "metadata": {
    "colab": {
      "provenance": []
    },
    "kernelspec": {
      "name": "ir",
      "display_name": "R"
    },
    "language_info": {
      "name": "R"
    }
  },
  "cells": [
    {
      "cell_type": "markdown",
      "source": [
        "# 第1節　データと課題の紹介\n",
        " ### ～扱う故障データ紹介～\n",
        " 扱うデータを表１に示す。\n",
        "\n",
        " 表１　13個の故障データ（単位：時間）\n",
        "\n",
        " [450 1150 1150 1600 2070 2070 2080 3100 3450 4600 6100 8750 Y]\n",
        "\n",
        " また、この時のYのデータは\n",
        "\n",
        " *Y = 13000+1000X*\n",
        "\n",
        " この式によって導出される。そして、今回の場合は学籍番号が*21D7104020H* であるので**X＝０**として考える。そのため、**Y=13000** となる。\n",
        "### ～課題紹介～\n",
        "表１のデータに対してロケーションスケールファミリーに属する最適な分布を求めパラメータを推定する。その時の手順は以下のとおりである。\n",
        "\n",
        "\n",
        "1.   ノンパラメトリック推定による分布関数の推定\n",
        "\n",
        "2.   確率プロット法による適切な分布についての検討を行い、適切な分布を決定する\n",
        "\n",
        "3. 適切な分布による確率プロットを用いてパラメータ推定を行う\n",
        "\n",
        "4. 推定されたパラメータによる、期待値、分散、1％クオンタイル、5％クオンタイル、99％クオンタイルを求める。\n",
        "\n",
        "\n"
      ],
      "metadata": {
        "id": "Xg7wyAR_kpGQ"
      }
    },
    {
      "cell_type": "markdown",
      "source": [
        "# 第2節　ノンパラメトリック推定"
      ],
      "metadata": {
        "id": "uuLQo8Pi3rW2"
      }
    },
    {
      "cell_type": "markdown",
      "source": [
        "**手順**\n",
        "1. 故障データの読み込みを行う\n",
        "2. ノンパラメトリック推定を行い分布関数の値を求める\n",
        "3. データとそれに対応する分布関数の推定値を表にまとめる\n",
        "4. 横軸に時間、縦軸に推定した分布関数の値を取った図を作成する\n",
        "\n",
        "\n"
      ],
      "metadata": {
        "id": "5gwWgHMr4B7G"
      }
    },
    {
      "cell_type": "markdown",
      "source": [
        "データを読み込む"
      ],
      "metadata": {
        "id": "JwKM06Rz79VQ"
      }
    },
    {
      "cell_type": "code",
      "execution_count": null,
      "metadata": {
        "id": "CZSPYuaCkiw7",
        "colab": {
          "base_uri": "https://localhost:8080/"
        },
        "outputId": "5b4d1b4a-d402-4c4b-d07b-ec80430a226e"
      },
      "outputs": [
        {
          "output_type": "stream",
          "name": "stderr",
          "text": [
            "── \u001b[1mAttaching packages\u001b[22m ─────────────────────────────────────── tidyverse 1.3.1 ──\n",
            "\n",
            "\u001b[32m✔\u001b[39m \u001b[34mggplot2\u001b[39m 3.4.2     \u001b[32m✔\u001b[39m \u001b[34mpurrr  \u001b[39m 1.0.1\n",
            "\u001b[32m✔\u001b[39m \u001b[34mtibble \u001b[39m 3.2.1     \u001b[32m✔\u001b[39m \u001b[34mdplyr  \u001b[39m 1.1.2\n",
            "\u001b[32m✔\u001b[39m \u001b[34mtidyr  \u001b[39m 1.3.0     \u001b[32m✔\u001b[39m \u001b[34mstringr\u001b[39m 1.5.0\n",
            "\u001b[32m✔\u001b[39m \u001b[34mreadr  \u001b[39m 2.1.4     \u001b[32m✔\u001b[39m \u001b[34mforcats\u001b[39m 1.0.0\n",
            "\n",
            "── \u001b[1mConflicts\u001b[22m ────────────────────────────────────────── tidyverse_conflicts() ──\n",
            "\u001b[31m✖\u001b[39m \u001b[34mdplyr\u001b[39m::\u001b[32mfilter()\u001b[39m masks \u001b[34mstats\u001b[39m::filter()\n",
            "\u001b[31m✖\u001b[39m \u001b[34mdplyr\u001b[39m::\u001b[32mlag()\u001b[39m    masks \u001b[34mstats\u001b[39m::lag()\n",
            "\n"
          ]
        }
      ],
      "source": [
        "library(tidyverse)\n",
        "t=c(450,1150,1150,1600,2070,2070,2080,3100,3450,4600,6100,8750,13000)\n",
        "n = length(t)\n",
        "i = seq_along(t)\n",
        "d = data.frame(i, t)\n"
      ]
    },
    {
      "cell_type": "markdown",
      "source": [
        "読み込んだデータを可視化し、特徴を捉える。"
      ],
      "metadata": {
        "id": "ZDma3yZ-8EI7"
      }
    },
    {
      "cell_type": "code",
      "source": [
        "d%>%\n",
        "  ggplot(aes(0,i))+\n",
        "  geom_segment(aes(xend=t,yend=i),show.legend = F)+\n",
        "  geom_text(aes(x=t,label=\"x\"),show.legend = F)+\n",
        "  xlab(expression(paste(\"Time\")))+\n",
        "  ylab(\"Specimens\")+\n",
        "  scale_y_reverse()"
      ],
      "metadata": {
        "colab": {
          "base_uri": "https://localhost:8080/",
          "height": 437
        },
        "id": "5qWOXLC1ssXz",
        "outputId": "a5f9ee89-177d-4d18-d47b-1b38210a6611"
      },
      "execution_count": null,
      "outputs": [
        {
          "output_type": "display_data",
          "data": {
            "text/plain": [
              "plot without title"
            ],
            "image/png": "[encoded data removed]"
          },
          "metadata": {
            "image/png": {
              "width": 420,
              "height": 420
            }
          }
        }
      ]
    },
    {
      "cell_type": "markdown",
      "source": [
        "それぞれのデータの発生確率がわからないため\n",
        "\\begin{aligned}p_{i}&={\\frac{i-0.5}{{n}}}\n",
        "\\end{aligned}\n",
        "この式によって求める。-0.5をするのはi=nの時に確率１となり必ず発生するという意味合いになってしまう。そこで0.5を引いて修正した。\n",
        "\n"
      ],
      "metadata": {
        "id": "JWklB4qHAuch"
      }
    },
    {
      "cell_type": "markdown",
      "source": [
        "データとそれに対応する分布関数の推定値を表にまとめる。その結果を下に示す"
      ],
      "metadata": {
        "id": "vHtbhV3c8Riy"
      }
    },
    {
      "cell_type": "code",
      "source": [
        "d=d%>%mutate(p=(i-.5)/n)"
      ],
      "metadata": {
        "id": "fVWNE62rssx7"
      },
      "execution_count": null,
      "outputs": []
    },
    {
      "cell_type": "code",
      "source": [
        "d"
      ],
      "metadata": {
        "colab": {
          "base_uri": "https://localhost:8080/",
          "height": 506
        },
        "id": "f87LJjGWenxv",
        "outputId": "f4dc932e-9c1d-4b4b-9af1-4dd519b4f7e3"
      },
      "execution_count": null,
      "outputs": [
        {
          "output_type": "display_data",
          "data": {
            "text/html": [
              "<table class=\"dataframe\">\n",
              "<caption>A data.frame: 13 × 3</caption>\n",
              "<thead>\n",
              "\t<tr><th scope=col>i</th><th scope=col>t</th><th scope=col>p</th></tr>\n",
              "\t<tr><th scope=col>&lt;int&gt;</th><th scope=col>&lt;dbl&gt;</th><th scope=col>&lt;dbl&gt;</th></tr>\n",
              "</thead>\n",
              "<tbody>\n",
              "\t<tr><td> 1</td><td>  450</td><td>0.03846154</td></tr>\n",
              "\t<tr><td> 2</td><td> 1150</td><td>0.11538462</td></tr>\n",
              "\t<tr><td> 3</td><td> 1150</td><td>0.19230769</td></tr>\n",
              "\t<tr><td> 4</td><td> 1600</td><td>0.26923077</td></tr>\n",
              "\t<tr><td> 5</td><td> 2070</td><td>0.34615385</td></tr>\n",
              "\t<tr><td> 6</td><td> 2070</td><td>0.42307692</td></tr>\n",
              "\t<tr><td> 7</td><td> 2080</td><td>0.50000000</td></tr>\n",
              "\t<tr><td> 8</td><td> 3100</td><td>0.57692308</td></tr>\n",
              "\t<tr><td> 9</td><td> 3450</td><td>0.65384615</td></tr>\n",
              "\t<tr><td>10</td><td> 4600</td><td>0.73076923</td></tr>\n",
              "\t<tr><td>11</td><td> 6100</td><td>0.80769231</td></tr>\n",
              "\t<tr><td>12</td><td> 8750</td><td>0.88461538</td></tr>\n",
              "\t<tr><td>13</td><td>13000</td><td>0.96153846</td></tr>\n",
              "</tbody>\n",
              "</table>\n"
            ],
            "text/markdown": "\nA data.frame: 13 × 3\n\n| i &lt;int&gt; | t &lt;dbl&gt; | p &lt;dbl&gt; |\n|---|---|---|\n|  1 |   450 | 0.03846154 |\n|  2 |  1150 | 0.11538462 |\n|  3 |  1150 | 0.19230769 |\n|  4 |  1600 | 0.26923077 |\n|  5 |  2070 | 0.34615385 |\n|  6 |  2070 | 0.42307692 |\n|  7 |  2080 | 0.50000000 |\n|  8 |  3100 | 0.57692308 |\n|  9 |  3450 | 0.65384615 |\n| 10 |  4600 | 0.73076923 |\n| 11 |  6100 | 0.80769231 |\n| 12 |  8750 | 0.88461538 |\n| 13 | 13000 | 0.96153846 |\n\n",
            "text/latex": "A data.frame: 13 × 3\n\\begin{tabular}{lll}\n i & t & p\\\\\n <int> & <dbl> & <dbl>\\\\\n\\hline\n\t  1 &   450 & 0.03846154\\\\\n\t  2 &  1150 & 0.11538462\\\\\n\t  3 &  1150 & 0.19230769\\\\\n\t  4 &  1600 & 0.26923077\\\\\n\t  5 &  2070 & 0.34615385\\\\\n\t  6 &  2070 & 0.42307692\\\\\n\t  7 &  2080 & 0.50000000\\\\\n\t  8 &  3100 & 0.57692308\\\\\n\t  9 &  3450 & 0.65384615\\\\\n\t 10 &  4600 & 0.73076923\\\\\n\t 11 &  6100 & 0.80769231\\\\\n\t 12 &  8750 & 0.88461538\\\\\n\t 13 & 13000 & 0.96153846\\\\\n\\end{tabular}\n",
            "text/plain": [
              "   i  t     p         \n",
              "1   1   450 0.03846154\n",
              "2   2  1150 0.11538462\n",
              "3   3  1150 0.19230769\n",
              "4   4  1600 0.26923077\n",
              "5   5  2070 0.34615385\n",
              "6   6  2070 0.42307692\n",
              "7   7  2080 0.50000000\n",
              "8   8  3100 0.57692308\n",
              "9   9  3450 0.65384615\n",
              "10 10  4600 0.73076923\n",
              "11 11  6100 0.80769231\n",
              "12 12  8750 0.88461538\n",
              "13 13 13000 0.96153846"
            ]
          },
          "metadata": {}
        }
      ]
    },
    {
      "cell_type": "markdown",
      "source": [
        "横軸に時間、縦軸に推定下分布関数の値を取った図を作成した結果を下の図に示す。"
      ],
      "metadata": {
        "id": "Xkl05cm1D-ej"
      }
    },
    {
      "cell_type": "code",
      "source": [
        "plotAlloy = d%>%ggplot()+\n",
        "  xlab(expression(paste(\"Time\")))+\n",
        "  ylab(expression(italic(p)))\n",
        "plotAlloy + geom_point(aes(t,p))"
      ],
      "metadata": {
        "colab": {
          "base_uri": "https://localhost:8080/",
          "height": 437
        },
        "id": "us2u5aJZtpio",
        "outputId": "3368cdda-20ea-4a26-e2cc-588480fd158b"
      },
      "execution_count": null,
      "outputs": [
        {
          "output_type": "display_data",
          "data": {
            "text/plain": [
              "plot without title"
            ],
            "image/png": "[encoded data removed]"
          },
          "metadata": {
            "image/png": {
              "width": 420,
              "height": 420
            }
          }
        }
      ]
    },
    {
      "cell_type": "markdown",
      "source": [
        "#第３節 適切な分布の決定"
      ],
      "metadata": {
        "id": "5g_IB5OAolPg"
      }
    },
    {
      "cell_type": "markdown",
      "source": [
        "**手順**\n",
        "1. 正規分布、対数正規分布、最小極値分布、ワイブル分布で確率プロットの図を作る\n",
        "2. プロットした図を見比べ、より点が直線になっている分布を選ぶ"
      ],
      "metadata": {
        "id": "xUjmwpfG9AEu"
      }
    },
    {
      "cell_type": "markdown",
      "source": [
        "正規分布、対数正規分布、最小極値分布、ワイブル分布の確率プロットを作成する。プロットした結果を下に示す"
      ],
      "metadata": {
        "id": "rfhols9u-ObL"
      }
    },
    {
      "cell_type": "code",
      "source": [
        "plotAlloy = plotAlloy+ylab(\"Standard Quantile\")\n",
        "\n",
        "d = d%>%mutate(invNor = qnorm(p))\n",
        "#plotAlloy+geom_point(data=d,aes(x=t,y=invNor))\n",
        "\n",
        "d = d%>%mutate(log_t=log(t))\n",
        "#plotAlloy+geom_point(data=d,aes(x=log(t),y=invNor))\n",
        "\n",
        "d = d%>%mutate(invSEV = log(-log(1-p)))\n",
        "\n",
        "#plotAlloy+geom_point(data=d,aes(x=t,y=invSEV))\n",
        "\n",
        "#plotAlloy + geom_point(data=d, aes(x=log_t, y=invSEV))"
      ],
      "metadata": {
        "id": "sjjlQxZowoEI"
      },
      "execution_count": null,
      "outputs": []
    },
    {
      "cell_type": "code",
      "source": [
        "bind_rows(\n",
        "  data.frame(model=\"Normal\",x=d$t,y=d$invNor),\n",
        "  data.frame(model=\"LogNormal\",x=d$log_t,y=d$invNor),\n",
        "  data.frame(model=\"SEV\", x=d$t, y=d$invSEV),\n",
        "  data.frame(model=\"Weibull\", x=d$log_t, y=d$invSEV)\n",
        "  )%>%\n",
        "    mutate(model = factor(model,levels = c(\"Normal\", \"LogNormal\", \"SEV\", \"Weibull\")))%>%\n",
        "    ggplot()+\n",
        "    xlab(expression(paste(\"Thousandas of Cycles\", \" \", (\"\" %*% 10^3))))+\n",
        "    ylab(expression(italic(p)))+\n",
        "    geom_point(aes(x,y,col=model),show.legend = FALSE)+\n",
        "    facet_wrap(~model,scales=\"free\")"
      ],
      "metadata": {
        "colab": {
          "base_uri": "https://localhost:8080/",
          "height": 437
        },
        "id": "IAi7dQ4rwdxo",
        "outputId": "6f111721-bef8-4e64-c9f4-ff32a5b4fd44"
      },
      "execution_count": null,
      "outputs": [
        {
          "output_type": "display_data",
          "data": {
            "text/plain": [
              "plot without title"
            ],
            "image/png": "[encoded data removed]"
          },
          "metadata": {
            "image/png": {
              "width": 420,
              "height": 420
            }
          }
        }
      ]
    },
    {
      "cell_type": "markdown",
      "source": [
        "\n",
        "\n",
        "> 正規分布、対数正規分布、最小極値分布、ワイブル分布のそれぞれの確率尺度でプロットをした。その結果、最も対数正規分布の時に点が直線的にプロットされることがわかった。また、このように直線になることは対数正規分布への当てはまりが用という事を示している。\n",
        "\n",
        "\n",
        "> そのため、今回のデータに対してもっとも対数正規分布の当てはまりが強いと考えられた。\n",
        "\n",
        "\n",
        "\n",
        "\n",
        "\n",
        "\n"
      ],
      "metadata": {
        "id": "_d36qyPepH_i"
      }
    },
    {
      "cell_type": "markdown",
      "source": [
        "当てはまりが最も強かった対数正規分布の確率プロットを以下に示す。"
      ],
      "metadata": {
        "id": "KoYFv44Ts4BI"
      }
    },
    {
      "cell_type": "code",
      "source": [
        "plotAlloy = d %>% ggplot()+\n",
        "xlab(expression(paste(\"Time\")))+\n",
        "ylab(\"Standard Quantile\")\n",
        "d = d %>% mutate(log_t = log(t), invNor = qnorm(p))\n",
        "plotAlloy + geom_point(data=d, aes(x=log_t, y=invNor))"
      ],
      "metadata": {
        "colab": {
          "base_uri": "https://localhost:8080/",
          "height": 437
        },
        "id": "Wmf_7brLwefx",
        "outputId": "e5fa2003-b265-4100-b445-efa48a15820f"
      },
      "execution_count": null,
      "outputs": [
        {
          "output_type": "display_data",
          "data": {
            "text/plain": [
              "plot without title"
            ],
            "image/png": "[encoded data removed]"
          },
          "metadata": {
            "image/png": {
              "width": 420,
              "height": 420
            }
          }
        }
      ]
    },
    {
      "cell_type": "markdown",
      "source": [
        "やはり直線的であることがわかる。"
      ],
      "metadata": {
        "id": "3OBYx9zCtOXA"
      }
    },
    {
      "cell_type": "markdown",
      "source": [
        "#第4節 パラメータ推定"
      ],
      "metadata": {
        "id": "9JE6wPzs-pFp"
      }
    },
    {
      "cell_type": "markdown",
      "source": [
        "**手順**\n",
        "1. 特定した分布の確率プロットに対して単回帰モデルによる推定を行う。\n",
        "2. 傾き、切片を求める。"
      ],
      "metadata": {
        "id": "uzWCwZK9-u3k"
      }
    },
    {
      "cell_type": "markdown",
      "source": [
        "\n",
        "\n",
        "> 今回のデータに対しては対数正規分布の当てはまりが最もよかったので、対数正規分布の確率プロットに対して単回帰モデルによる推定を行う。この時の直線の式は以下のようになる。\n",
        "\n",
        "\\begin{aligned}\\Phi^{-1}_{nor}(p)= {\\frac {1}{\\sigma}}log(t_{p})-{\\frac {\\mu}{\\sigma }}\\end{aligned}\n",
        "\n",
        "\n",
        "\n",
        "> この式の回帰係数を推定するときは最小二乗法によって推定を行う。最小二乗法によってパラメータを推定する方法を以下に示す。\n",
        "\n",
        "\\begin{align}\\boldsymbol{x} = (x_1, x_2, ..., x_m)^Tとする\\end{align}\n",
        "\\begin{align}\\boldsymbol{y} = (y_1, y_2, ..., y_m)^Tとする\\end{align}\n",
        "\n",
        "\\begin{align}\n",
        "\\epsilon & = \\frac{1}{2}\\sum_i (y_i - β^T\\boldsymbol{x_i})^2 \\\\\n",
        "& = \\frac{1}{2}|\\boldsymbol{y} - X\\boldsymbol{β}| ^2 \\\\\n",
        "& = \\frac{1}{2}(\\boldsymbol{y} - X\\boldsymbol{β})^T(\\boldsymbol{y} - X\\boldsymbol{β})\n",
        "\\end{align}\n",
        "\n",
        "\n",
        "\\begin{align}\n",
        "&\\frac{\\partial \\epsilon}{\\partial \\boldsymbol{β}} = 0 \\\\\n",
        "\\iff &X^T(\\boldsymbol{y} - X\\boldsymbol{β}) = 0 \\\\\n",
        "\\iff &X^T\\boldsymbol{y} - X^TX\\boldsymbol{β} = 0 \\\\\n",
        "\\iff &\\boldsymbol{β} = (X^TX)^{-1}X^T\\boldsymbol{y}\n",
        "\\end{align}\n",
        "このように回帰係数を求めることが出来る。\n",
        "\n",
        "\n",
        "\n",
        "\n"
      ],
      "metadata": {
        "id": "X5agtIlaIvD6"
      }
    },
    {
      "cell_type": "markdown",
      "source": [
        "最小二乗法によってパラメータを推定する関数をleast.squareで定義する。"
      ],
      "metadata": {
        "id": "14-wbpk2y6y4"
      }
    },
    {
      "cell_type": "code",
      "source": [
        "least.square = function(x, y){\n",
        "X = matrix(c(rep(1, length(x)), x), ncol=2)\n",
        "Y = matrix(y)\n",
        "beta = solve( t(X) %*% X ) %*% t(X) %*% Y\n",
        " return(beta)\n",
        "}\n",
        "\n"
      ],
      "metadata": {
        "id": "ijNGVVvoyhXB"
      },
      "execution_count": null,
      "outputs": []
    },
    {
      "cell_type": "markdown",
      "source": [
        "\n",
        "\n",
        "> 対数正規分布として、単回帰モデルによる推定を行う。この時、定義したleast.square関数で下の式の傾き、切片を推定する。\n",
        "\n",
        "\\begin{aligned}\\Phi^{-1}_{nor}(p)= {\\frac {1}{\\sigma}}log(t_{p})-{\\frac {\\mu}{\\sigma }}\\end{aligned}\n",
        "\n",
        "\n",
        "> そして、その結果が下の結果である。\n",
        "\n",
        "\n",
        "\n"
      ],
      "metadata": {
        "id": "r0mMlDzqzGH2"
      }
    },
    {
      "cell_type": "code",
      "source": [
        "x= log(d$t)\n",
        "y = qnorm(d$p)\n",
        "par = least.square(x,y)\n",
        "par"
      ],
      "metadata": {
        "colab": {
          "base_uri": "https://localhost:8080/",
          "height": 132
        },
        "id": "IPrkpY_Ryh9x",
        "outputId": "fd117cf8-c9c4-466f-d95d-2597f2845e2c"
      },
      "execution_count": null,
      "outputs": [
        {
          "output_type": "display_data",
          "data": {
            "text/html": [
              "<table class=\"dataframe\">\n",
              "<caption>A matrix: 2 × 1 of type dbl</caption>\n",
              "<tbody>\n",
              "\t<tr><td>-8.456892</td></tr>\n",
              "\t<tr><td> 1.073866</td></tr>\n",
              "</tbody>\n",
              "</table>\n"
            ],
            "text/markdown": "\nA matrix: 2 × 1 of type dbl\n\n| -8.456892 |\n|  1.073866 |\n\n",
            "text/latex": "A matrix: 2 × 1 of type dbl\n\\begin{tabular}{l}\n\t -8.456892\\\\\n\t  1.073866\\\\\n\\end{tabular}\n",
            "text/plain": [
              "     [,1]     \n",
              "[1,] -8.456892\n",
              "[2,]  1.073866"
            ]
          },
          "metadata": {}
        }
      ]
    },
    {
      "cell_type": "markdown",
      "source": [
        "\n",
        "\n",
        "> 上の実行結果より\\begin{aligned}切片=-8.456892\\end{aligned}\\begin{aligned}傾き=1.073866\\end{aligned}であることがわかった。\n"
      ],
      "metadata": {
        "id": "tecY0MJxHAWx"
      }
    },
    {
      "cell_type": "markdown",
      "source": [
        "この結果をもとに赤い直線と確率尺度を重ねた。この時の結果を以下に示す。"
      ],
      "metadata": {
        "id": "SqNn31GNH-Ds"
      }
    },
    {
      "cell_type": "code",
      "source": [
        "d%>%\n",
        "  ggplot()+\n",
        "  geom_point(aes(log(t),qnorm(p)))+\n",
        "  geom_abline(intercept = par[1],slope = par[2],col=\"red\")"
      ],
      "metadata": {
        "colab": {
          "base_uri": "https://localhost:8080/",
          "height": 437
        },
        "id": "c-wD2AgYyqQS",
        "outputId": "6a5dd543-4bfe-42db-8619-68a52464b30f"
      },
      "execution_count": null,
      "outputs": [
        {
          "output_type": "display_data",
          "data": {
            "text/plain": [
              "plot without title"
            ],
            "image/png": "[encoded data removed]"
          },
          "metadata": {
            "image/png": {
              "width": 420,
              "height": 420
            }
          }
        }
      ]
    },
    {
      "cell_type": "markdown",
      "source": [
        ">上のグラフから確率尺度と推定した直線がかなり一致していることがわかった。"
      ],
      "metadata": {
        "id": "UHO1uKw8IKb1"
      }
    },
    {
      "cell_type": "markdown",
      "source": [
        "#第５節 期待値や分散などの特性値の算出及びデータと分布の確認\n",
        "\n",
        "\n",
        "\n",
        "\n"
      ],
      "metadata": {
        "id": "32Dyncp3IVy2"
      }
    },
    {
      "cell_type": "markdown",
      "source": [
        "**手順**\n",
        "1. 求めた傾き、切片から期待値、分散を求める\n",
        "2. 求めた期待値、分散の推定値を用いて分布関数のP値を求める。\n",
        "3. 分布関数の1%クォンタイル、５％クォンタイル、99%クォンタイルを求める"
      ],
      "metadata": {
        "id": "_iHuvr9-NH13"
      }
    },
    {
      "cell_type": "markdown",
      "source": [
        ">最小二乗法によって\n",
        "\\begin{aligned}\\Phi^{-1}_{nor}(p)= {\\frac {1}{\\sigma}}log(t_{p})-{\\frac {\\mu}{\\sigma }}\\end{aligned}\n",
        "この式の傾き、切片の値がわかった。これらの値を用いてμ、σの推定値を求める。その時の式は以下である。\n",
        "\\begin{aligned}\\hat{\\sigma}= {\\frac {1}{傾き}}\\end{aligned}\n",
        "\\begin{aligned}\\hat{\\mu}= -切片×\\hat{\\sigma}\\end{aligned}\n",
        "この式をもとに平均、分散の推定値を求めた。その結果を以下に示す。"
      ],
      "metadata": {
        "id": "CnLrk6EbItxF"
      }
    },
    {
      "cell_type": "code",
      "source": [
        "hatsigma = 1/par[2]\n",
        "hatmu = -par[1]*hatsigma\n",
        "hatsigma\n",
        "hatmu"
      ],
      "metadata": {
        "id": "QHaU1-Iby4Kq",
        "colab": {
          "base_uri": "https://localhost:8080/",
          "height": 52
        },
        "outputId": "0a6cecad-e334-47d7-fa07-515e1bed58c3"
      },
      "execution_count": null,
      "outputs": [
        {
          "output_type": "display_data",
          "data": {
            "text/html": [
              "0.931215212093526"
            ],
            "text/markdown": "0.931215212093526",
            "text/latex": "0.931215212093526",
            "text/plain": [
              "[1] 0.9312152"
            ]
          },
          "metadata": {}
        },
        {
          "output_type": "display_data",
          "data": {
            "text/html": [
              "7.87518677137335"
            ],
            "text/markdown": "7.87518677137335",
            "text/latex": "7.87518677137335",
            "text/plain": [
              "[1] 7.875187"
            ]
          },
          "metadata": {}
        }
      ]
    },
    {
      "cell_type": "markdown",
      "source": [
        "\n",
        "\\begin{aligned}\\hat{\\sigma}= 0.931215212093526\\end{aligned}\n",
        "\\begin{aligned}\\hat{\\mu}=7.87518677137335\\end{aligned}\n",
        "であることがわかった。"
      ],
      "metadata": {
        "id": "VhpSXVh9Mcwe"
      }
    },
    {
      "cell_type": "markdown",
      "source": [
        "求めた期待値、分散の推定値を用いて分布関数のP値を求める。\n"
      ],
      "metadata": {
        "id": "QKHFK2T1Kb4B"
      }
    },
    {
      "cell_type": "markdown",
      "source": [
        "\n",
        "\n",
        "\\begin{aligned}対数正規分布のパラメータ(\\hat{\\mu},\\hat{\\sigma})が求まったのでこれらか累積分布関数の値\\hat{p}を求める。\\end{aligned}\n",
        "\n",
        "\\begin{aligned}\\hat{p}=\\Phi_{nor}{\\bigg (}{\\frac {log(t)-\\hat{\\mu}}{\\hat{\\sigma }}}{\\bigg )}\\end{aligned}\n",
        "\\begin{aligned}累積分布関数の\\hat{p}は上記のように表せる。\\end{aligned}"
      ],
      "metadata": {
        "id": "QWpXjitvKtVg"
      }
    },
    {
      "cell_type": "markdown",
      "source": [
        "データとノンパラメトリック推定をしたP値と累積分布関数から求めたP値をまとめた表を以下に示す。"
      ],
      "metadata": {
        "id": "hg05ONzPNX3Y"
      }
    },
    {
      "cell_type": "code",
      "source": [
        "d = d%>%mutate(hatp = pnorm((x-hatmu)/hatsigma))\n",
        "d%>%select(t,p,hatp)"
      ],
      "metadata": {
        "colab": {
          "base_uri": "https://localhost:8080/",
          "height": 506
        },
        "id": "9znR8b09zceU",
        "outputId": "2a1ab924-4a09-4f66-864e-cef56eb6b4e2"
      },
      "execution_count": null,
      "outputs": [
        {
          "output_type": "display_data",
          "data": {
            "text/html": [
              "<table class=\"dataframe\">\n",
              "<caption>A data.frame: 13 × 3</caption>\n",
              "<thead>\n",
              "\t<tr><th scope=col>t</th><th scope=col>p</th><th scope=col>hatp</th></tr>\n",
              "\t<tr><th scope=col>&lt;dbl&gt;</th><th scope=col>&lt;dbl&gt;</th><th scope=col>&lt;dbl&gt;</th></tr>\n",
              "</thead>\n",
              "<tbody>\n",
              "\t<tr><td>  450</td><td>0.03846154</td><td>0.02895482</td></tr>\n",
              "\t<tr><td> 1150</td><td>0.11538462</td><td>0.18705371</td></tr>\n",
              "\t<tr><td> 1150</td><td>0.19230769</td><td>0.18705371</td></tr>\n",
              "\t<tr><td> 1600</td><td>0.26923077</td><td>0.29661173</td></tr>\n",
              "\t<tr><td> 2070</td><td>0.34615385</td><td>0.39835705</td></tr>\n",
              "\t<tr><td> 2070</td><td>0.42307692</td><td>0.39835705</td></tr>\n",
              "\t<tr><td> 2080</td><td>0.50000000</td><td>0.40035563</td></tr>\n",
              "\t<tr><td> 3100</td><td>0.57692308</td><td>0.56988540</td></tr>\n",
              "\t<tr><td> 3450</td><td>0.65384615</td><td>0.61445755</td></tr>\n",
              "\t<tr><td> 4600</td><td>0.73076923</td><td>0.72570955</td></tr>\n",
              "\t<tr><td> 6100</td><td>0.80769231</td><td>0.81672849</td></tr>\n",
              "\t<tr><td> 8750</td><td>0.88461538</td><td>0.90154076</td></tr>\n",
              "\t<tr><td>13000</td><td>0.96153846</td><td>0.95687499</td></tr>\n",
              "</tbody>\n",
              "</table>\n"
            ],
            "text/markdown": "\nA data.frame: 13 × 3\n\n| t &lt;dbl&gt; | p &lt;dbl&gt; | hatp &lt;dbl&gt; |\n|---|---|---|\n|   450 | 0.03846154 | 0.02895482 |\n|  1150 | 0.11538462 | 0.18705371 |\n|  1150 | 0.19230769 | 0.18705371 |\n|  1600 | 0.26923077 | 0.29661173 |\n|  2070 | 0.34615385 | 0.39835705 |\n|  2070 | 0.42307692 | 0.39835705 |\n|  2080 | 0.50000000 | 0.40035563 |\n|  3100 | 0.57692308 | 0.56988540 |\n|  3450 | 0.65384615 | 0.61445755 |\n|  4600 | 0.73076923 | 0.72570955 |\n|  6100 | 0.80769231 | 0.81672849 |\n|  8750 | 0.88461538 | 0.90154076 |\n| 13000 | 0.96153846 | 0.95687499 |\n\n",
            "text/latex": "A data.frame: 13 × 3\n\\begin{tabular}{lll}\n t & p & hatp\\\\\n <dbl> & <dbl> & <dbl>\\\\\n\\hline\n\t   450 & 0.03846154 & 0.02895482\\\\\n\t  1150 & 0.11538462 & 0.18705371\\\\\n\t  1150 & 0.19230769 & 0.18705371\\\\\n\t  1600 & 0.26923077 & 0.29661173\\\\\n\t  2070 & 0.34615385 & 0.39835705\\\\\n\t  2070 & 0.42307692 & 0.39835705\\\\\n\t  2080 & 0.50000000 & 0.40035563\\\\\n\t  3100 & 0.57692308 & 0.56988540\\\\\n\t  3450 & 0.65384615 & 0.61445755\\\\\n\t  4600 & 0.73076923 & 0.72570955\\\\\n\t  6100 & 0.80769231 & 0.81672849\\\\\n\t  8750 & 0.88461538 & 0.90154076\\\\\n\t 13000 & 0.96153846 & 0.95687499\\\\\n\\end{tabular}\n",
            "text/plain": [
              "   t     p          hatp      \n",
              "1    450 0.03846154 0.02895482\n",
              "2   1150 0.11538462 0.18705371\n",
              "3   1150 0.19230769 0.18705371\n",
              "4   1600 0.26923077 0.29661173\n",
              "5   2070 0.34615385 0.39835705\n",
              "6   2070 0.42307692 0.39835705\n",
              "7   2080 0.50000000 0.40035563\n",
              "8   3100 0.57692308 0.56988540\n",
              "9   3450 0.65384615 0.61445755\n",
              "10  4600 0.73076923 0.72570955\n",
              "11  6100 0.80769231 0.81672849\n",
              "12  8750 0.88461538 0.90154076\n",
              "13 13000 0.96153846 0.95687499"
            ]
          },
          "metadata": {}
        }
      ]
    },
    {
      "cell_type": "markdown",
      "source": [
        "\n",
        "\n",
        "上記の結果をの（t,p）のデータを点としてプロットした。また、（t,hatp）の値を赤い線で結んだものを示したグラフを下に示す。\n",
        "\n"
      ],
      "metadata": {
        "id": "cn_gfg_oojCr"
      }
    },
    {
      "cell_type": "code",
      "source": [
        "d%>%\n",
        "  ggplot()+\n",
        "  geom_point(aes(t,p))+\n",
        "  geom_line(aes(t,hatp),col=\"red\")"
      ],
      "metadata": {
        "colab": {
          "base_uri": "https://localhost:8080/",
          "height": 437
        },
        "id": "gmYEhIG12mPR",
        "outputId": "2032e26b-7381-4d0c-af31-9e4273e62e44"
      },
      "execution_count": null,
      "outputs": [
        {
          "output_type": "display_data",
          "data": {
            "text/plain": [
              "plot without title"
            ],
            "image/png": "[encoded data removed]"
          },
          "metadata": {
            "image/png": {
              "width": 420,
              "height": 420
            }
          }
        }
      ]
    },
    {
      "cell_type": "markdown",
      "source": [
        "上のグラフからノンパラメトリック推定した累積分布関数の値に、推定した対数正規分布の関数がよく当てはまっていることが分かった。"
      ],
      "metadata": {
        "id": "2UAGrQpqpNxD"
      }
    },
    {
      "cell_type": "markdown",
      "source": [
        "\n",
        "\n",
        "> 次に、対数正規分布の期待値、分散、それぞれのクオンタイルを求める。この時、期待値、分散、それぞれのクオンタイルは以下のように表せる。\n",
        "\n",
        "\\begin{aligned}E(T)&=\\exp(\\hat\\mu-\\frac{\\hat\\sigma^2}{2})\\end{aligned}\n",
        "\\begin{aligned}Var(T)&=\\exp(2 \\hat\\mu+ \\hat\\sigma^2)(\\exp( \\hat\\sigma^2)-1)\\end{aligned}\n",
        "\n",
        "\\begin{aligned}t_{p}&=\\exp(\\mu+ \\sigma \\Phi^{-1}_{nor}(p))\\end{aligned}\n",
        "\n",
        "\n",
        "\n",
        "\n",
        "\n",
        "\n",
        "\n",
        "\n"
      ],
      "metadata": {
        "id": "c8XXYAx6y5Kl"
      }
    },
    {
      "cell_type": "markdown",
      "source": [
        "これらを求めた結果を以下に示す"
      ],
      "metadata": {
        "id": "VMDLkiGG2Mch"
      }
    },
    {
      "cell_type": "code",
      "source": [
        "expectation = exp(hatmu+hatsigma^2/2)\n",
        "variance = exp(2*hatmu+hatsigma^2)*(exp(hatsigma^2)-1)\n",
        "expectation\n",
        "variance"
      ],
      "metadata": {
        "colab": {
          "base_uri": "https://localhost:8080/",
          "height": 52
        },
        "id": "O-Xbb0YKzaXM",
        "outputId": "33437557-bcff-4bc6-cc2c-10b6e8b34bc1"
      },
      "execution_count": null,
      "outputs": [
        {
          "output_type": "display_data",
          "data": {
            "text/html": [
              "4059.30744091821"
            ],
            "text/markdown": "4059.30744091821",
            "text/latex": "4059.30744091821",
            "text/plain": [
              "[1] 4059.307"
            ]
          },
          "metadata": {}
        },
        {
          "output_type": "display_data",
          "data": {
            "text/html": [
              "22742011.5883714"
            ],
            "text/markdown": "22742011.5883714",
            "text/latex": "22742011.5883714",
            "text/plain": [
              "[1] 22742012"
            ]
          },
          "metadata": {}
        }
      ]
    },
    {
      "cell_type": "code",
      "source": [
        "t1 = exp(hatmu + hatsigma * qnorm(0.01))\n",
        "t50 = exp(hatmu + hatsigma * qnorm(0.5))\n",
        "t99 = exp(hatmu + hatsigma * qnorm(0.99))"
      ],
      "metadata": {
        "id": "J38bRgyRzRqH"
      },
      "execution_count": null,
      "outputs": []
    },
    {
      "cell_type": "code",
      "source": [
        "data.frame(t1,t50,t99)"
      ],
      "metadata": {
        "colab": {
          "base_uri": "https://localhost:8080/",
          "height": 129
        },
        "id": "TSvdQwmN2pGn",
        "outputId": "4482f85c-5c38-44f6-afad-f81a250200cc"
      },
      "execution_count": null,
      "outputs": [
        {
          "output_type": "display_data",
          "data": {
            "text/html": [
              "<table class=\"dataframe\">\n",
              "<caption>A data.frame: 1 × 3</caption>\n",
              "<thead>\n",
              "\t<tr><th scope=col>t1</th><th scope=col>t50</th><th scope=col>t99</th></tr>\n",
              "\t<tr><th scope=col>&lt;dbl&gt;</th><th scope=col>&lt;dbl&gt;</th><th scope=col>&lt;dbl&gt;</th></tr>\n",
              "</thead>\n",
              "<tbody>\n",
              "\t<tr><td>301.526</td><td>2631.178</td><td>22960.19</td></tr>\n",
              "</tbody>\n",
              "</table>\n"
            ],
            "text/markdown": "\nA data.frame: 1 × 3\n\n| t1 &lt;dbl&gt; | t50 &lt;dbl&gt; | t99 &lt;dbl&gt; |\n|---|---|---|\n| 301.526 | 2631.178 | 22960.19 |\n\n",
            "text/latex": "A data.frame: 1 × 3\n\\begin{tabular}{lll}\n t1 & t50 & t99\\\\\n <dbl> & <dbl> & <dbl>\\\\\n\\hline\n\t 301.526 & 2631.178 & 22960.19\\\\\n\\end{tabular}\n",
            "text/plain": [
              "  t1      t50      t99     \n",
              "1 301.526 2631.178 22960.19"
            ]
          },
          "metadata": {}
        }
      ]
    },
    {
      "cell_type": "markdown",
      "source": [
        "\\begin{aligned}E(T)&=4059.3・・\\end{aligned}\n",
        "\\begin{aligned}Var(T)&=22742011.・・\\end{aligned}\n",
        "\n",
        "\\begin{aligned}t_{0.01}&=301.526\n",
        "\\end{aligned}\n",
        "\\begin{aligned}t_{0.5}&=2631.178\n",
        "\\end{aligned}\n",
        "\\begin{aligned}t_{0.99}&=22960.19\n",
        "\\end{aligned}\n",
        "\\begin{aligned}であることがわかった\n",
        "\\end{aligned}\n",
        "\n",
        "\n"
      ],
      "metadata": {
        "id": "coP2h6EG2uMF"
      }
    },
    {
      "cell_type": "markdown",
      "source": [
        "\n",
        "\n",
        "> 最後に、観測データと仮定した対数正規分布のフィッティングの程度を確認する。この時、観測データをヒストグラムで表示し、その上に対数正規分布の密度関数を重ねることで確認をする。\n",
        "密度関数の式は以下のように表せる。\n",
        "\n",
        "\n",
        "\\begin{aligned}\\frac{1}{t\\hat\\sigma}ϕ_{nor}{\\bigg (}{\\frac {log(t)-\\hat{\\mu}}{\\hat{\\sigma }}}{\\bigg )}\\end{aligned}\n",
        "\n",
        "\n"
      ],
      "metadata": {
        "id": "-8HwRfSA6Njg"
      }
    },
    {
      "cell_type": "markdown",
      "source": [
        "上記のように表せることから確率密度を計算し、ヒストグラムと密度関数の赤い線を重ねたグラフを下に示す。"
      ],
      "metadata": {
        "id": "B1Ig2-0i8ka4"
      }
    },
    {
      "cell_type": "code",
      "source": [
        "d = d %>% mutate(hatd = 1/(hatsigma*t) * dnorm((log(t)-hatmu)/hatsigma))"
      ],
      "metadata": {
        "id": "1qRQkX5W2mrf"
      },
      "execution_count": null,
      "outputs": []
    },
    {
      "cell_type": "code",
      "source": [
        "d %>%\n",
        "ggplot()+\n",
        "geom_histogram(aes(t, ..density..), col=\"white\", bins=10)+\n",
        "geom_line(aes(t, hatd), col=\"red\")"
      ],
      "metadata": {
        "colab": {
          "base_uri": "https://localhost:8080/",
          "height": 491
        },
        "id": "5vAx8kF83G5o",
        "outputId": "421b83e3-e83b-4184-9e12-5bccafab93d1"
      },
      "execution_count": null,
      "outputs": [
        {
          "output_type": "stream",
          "name": "stderr",
          "text": [
            "Warning message:\n",
            "“\u001b[1m\u001b[22mThe dot-dot notation (`..density..`) was deprecated in ggplot2 3.4.0.\n",
            "\u001b[36mℹ\u001b[39m Please use `after_stat(density)` instead.”\n"
          ]
        },
        {
          "output_type": "display_data",
          "data": {
            "text/plain": [
              "plot without title"
            ],
            "image/png": "[encoded data removed]"
          },
          "metadata": {
            "image/png": {
              "width": 420,
              "height": 420
            }
          }
        }
      ]
    },
    {
      "cell_type": "markdown",
      "source": [
        "おおむね対数正規分布の密度関数と観測値のヒストグラムがフィットしているように見える。"
      ],
      "metadata": {
        "id": "KTP3HeFy88oy"
      }
    },
    {
      "cell_type": "markdown",
      "source": [
        "# 第6節　考察"
      ],
      "metadata": {
        "id": "X8O_yxct9JZ6"
      }
    },
    {
      "cell_type": "markdown",
      "source": [
        "### データの特徴\n",
        "> 今回のデータで確率尺度のプロットをすると対数正規分布の時が最も直線上に点がプロットされていることがわかった。つまり、このデータは対数正規分布に対して当てはまりが強いことが考えられた。さらに、ヒストグラムと対数正規分布の密度関数も同様に当てはまりが強いと考えられた。\n",
        "\n",
        "\n",
        "> 求めた分散の値がかなり大きいため、求めた期待値の信頼区間が大きくなることがわかった。そのため、予測値の区間が広くなりすぎて、適切な予測になっていなと考えられた。そして、これを改善するためにはデータ数を増やすことで分散を小さくする必要があると考えられた。しかし、データ数を増やし過ぎるとバイアスが大きくなるため注意しなけばならないとも考えた。\n",
        "\n",
        "\n",
        "### 今回の課題の仮定と問題点\n",
        "\n",
        "\n",
        "> 今回の課題では視覚的に正規分布、対数正規分布、ワイブル分布、最小極値分布の4つのロケーションスケールファミリーの中から分布を選ぶことが前提となっていた。さらに、それぞれのデータの生起確率をノンパラメトリック推定する際に経験分布関数を求めることによって行った。\n",
        "\n",
        "\n",
        "> 課題のデータが上記の4つの分布に従う前提で行っている点で問題があると考えられた。さらに、ノンパラメトリック推定で経験分布関数を求めて確率を推定した。この方法は、データ数が増えることで分散が小さくなり真の分布に収束していくという特性を持っている。そのため、今回はデータ数が少なかったため真の分布に収束させることが難しかったのではないかと考えた。また、タイのあるデータでは異なった確率の求め方をする必要があることが考えられた。\n",
        "\n",
        "### 確率プロット法の全体的な利点と問題点\n",
        "> 分布のわからないデータをプロットして視覚的にロケーションスケールファミリーの中の分布の中から適切な分布を簡単に探すことが出来る。そして、傾き、切片からパラメータが推定でき、真の分布の期待値、分散、クオンタイルを求めることが出来る点で便利であると考えられた。\n",
        "\n",
        "> 確率プロットはロケーションスケールファミリーの枠組みの中からしか分布を推定する事しかできないということが問題であると考えられた。さらに、確率プロットによる分布の特定は視覚的な判断という簡便な方法であるため、正確さにかけるという問題も考えられた。そして、ノンパラメトリック推定されたデータを使うため、データが少ない場合は分散が大きくなり適切な推定結果が出ないのではないかと考えられた。\n",
        "\n",
        "\n",
        "\n",
        "\n",
        "\n",
        "\n"
      ],
      "metadata": {
        "id": "IL4f5zl19FXD"
      }
    }
  ]
}