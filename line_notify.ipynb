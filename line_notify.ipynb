{
  "nbformat": 4,
  "nbformat_minor": 0,
  "metadata": {
    "colab": {
      "provenance": []
    },
    "kernelspec": {
      "name": "python3",
      "display_name": "Python 3"
    },
    "language_info": {
      "name": "python"
    }
  },
  "cells": [
    {
      "cell_type": "markdown",
      "source": [
        "# 特定のページで更新があった場合lineに通知するためのコード"
      ],
      "metadata": {
        "id": "EAVTQLZMKsEm"
      }
    },
    {
      "cell_type": "markdown",
      "source": [
        "> 更新頻度が不明な大学の奨学金のページで、新たな情報が記載されたかどうかを確認するのが面倒であった。そこで、情報の更新があれば通知をするというシステムを考えた。そして、そのコードが以下のコードである。また、コードの概要を示す。\n",
        "\n",
        "## 概要\n",
        "\n",
        "1.   特定のページからhtml形式の情報を取得する\n",
        "2.   取得した情報を指定のディレクトリに保存する\n",
        "3.   前日に取得したhtmlファイルと当日に取得したhtmlファイルを比較し一致している\n",
        "     かどうかを確認する\n",
        "4.   当日と前日取得した情報に差分があればlineで通知を行う\n",
        "\n",
        "\n"
      ],
      "metadata": {
        "id": "R8VxU2QVK5oW"
      }
    },
    {
      "cell_type": "code",
      "execution_count": null,
      "metadata": {
        "id": "laDuiIL-KBxS"
      },
      "outputs": [],
      "source": [
        "import requests\n",
        "from bs4 import BeautifulSoup\n",
        "import datetime\n",
        "import os\n",
        "\n",
        "data = requests.get(\"奨学金のサイト\")\n",
        "\n",
        "\n",
        "#soup=BeautifulSoup(res.content,\"html.parser\")"
      ]
    },
    {
      "cell_type": "code",
      "source": [
        "path = \"c:/line_notify\"\n",
        "with open('20230904_scholarship.html', 'w',encoding='utf-8') as file:\n",
        "    file.write(data.text)"
      ],
      "metadata": {
        "id": "2iGVv1jYKJyc"
      },
      "execution_count": null,
      "outputs": []
    },
    {
      "cell_type": "code",
      "source": [
        "#　pahtの指定\n",
        "path = \"c:/line_notify\"\n",
        "data = requests.get(\"奨学金のサイト\")\n",
        "with open('scholarship.html', 'w',encoding='utf-8') as file:\n",
        "    file.write(data.text)\n",
        "\n",
        "#取得したhtmlファイル名を変更_yyyymmdd_scholarship.html\n",
        "\n",
        "now = datetime.datetime.now()\n",
        "os.rename(\"scholarship.html\", now.strftime(\"%Y%m%d\") + \"_scholarship.html\")\n",
        "\n",
        "#昨日のファイルを呼び出す\n",
        "\n",
        "before = now - datetime.timedelta(days = 1 )\n",
        "fp1='{0:%Y%m%d}_scholarship.html'.format(before)\n",
        "filepath = str(path)+fp1\n",
        "\n",
        "with open(filepath , encoding='utf-8') as f:\n",
        "    html = f.read()\n",
        "soup = BeautifulSoup(html, 'lxml')\n",
        "\n",
        "#当日のファイルを呼び出す\n",
        "fp2='{0:%Y%m%d}_scholarship.html'.format(now)\n",
        "filepath2 = str(path)+fp2\n",
        "with open(filepath2 , encoding='utf-8') as f:\n",
        "    html = f.read()\n",
        "    soup2 = BeautifulSoup(html, 'lxml')\n",
        "\n",
        "#昨日のファイルと本日のファイルを比較して同じかどうかを確認\n",
        "\n",
        "b = (soup == soup2)\n",
        "\n",
        "#比較して違いがあるればlineAPIでメッセージを送信\n",
        "def if_content(b):\n",
        "    if b == True:\n",
        "        print('ありません')\n",
        "        os.remove(filepath)\n",
        "\n",
        "    else:\n",
        "        addmessage=\"奨学金のHPで\" \"\\r\\n\" \"情報の更新がありました。\" \"\\r\\n\" \"内容の確認をして下さい。\" \"\\r\\n\" \"奨学金のサイト\"\n",
        "        line_notify_token = '*************'\n",
        "        line_notify_api = 'https://notify-api.line.me/api/notify'\n",
        "        message = addmessage\n",
        "        payload = {'message':\"\\r\\n\"+ message}\n",
        "        headers = {'Authorization': 'Bearer ' + line_notify_token}  # 発行したトークン\n",
        "        line_notify = requests.post(line_notify_api, data=payload, headers=headers)\n",
        "        os.remove(filepath)\n",
        "if_content(b)\n",
        "\n"
      ],
      "metadata": {
        "id": "25o6jjdRKN6U"
      },
      "execution_count": null,
      "outputs": []
    }
  ]
}